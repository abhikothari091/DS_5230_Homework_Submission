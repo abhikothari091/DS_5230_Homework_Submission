{
 "cells": [
  {
   "cell_type": "markdown",
   "id": "e2949bb1-d243-4f5e-924c-e3021ee8139a",
   "metadata": {},
   "source": [
    "# Name: Abhishek kothari\n",
    "# Homework 1\n",
    "# USML"
   ]
  },
  {
   "cell_type": "markdown",
   "id": "774eb297-5acd-48cd-9e25-e15c69385107",
   "metadata": {},
   "source": [
    "## Question1)"
   ]
  },
  {
   "cell_type": "code",
   "execution_count": 2,
   "id": "eeb27500-ac39-495b-bae9-9c0c7ef59fb0",
   "metadata": {},
   "outputs": [],
   "source": [
    "with open(\"acm.txt\",'r') as file:\n",
    "    content = file.read()"
   ]
  },
  {
   "cell_type": "code",
   "execution_count": 3,
   "id": "44f9b083-ecac-4c60-8764-455bbdb295c5",
   "metadata": {},
   "outputs": [
    {
     "name": "stdout",
     "output_type": "stream",
     "text": [
      "{'publication': 'MOSFET table look-up models for circuit simulation', 'authors': [], 'year': 1984, 'publication_venue': 'Integration, the VLSI Journal', 'citations': [], 'index': '1'}\n",
      "{'publication': 'The verification of the protection mechanisms of high-level language machines', 'authors': ['Virgil D. Gligor'], 'year': 1984, 'publication_venue': 'International Journal of Parallel Programming', 'citations': [], 'index': '2'}\n",
      "{'publication': 'Another view of functional and multivalued dependencies in the relational database model', 'authors': ['M. Gyssens', 'J. Paredaens'], 'year': 1984, 'publication_venue': 'International Journal of Parallel Programming', 'citations': [], 'index': '3'}\n",
      "{'publication': 'Entity-relationship diagrams which are in BCNF', 'authors': ['Sushil Jajodia', 'Peter A. Ng', 'Frederick N. Springsteel'], 'year': 1984, 'publication_venue': 'International Journal of Parallel Programming', 'citations': [], 'index': '4'}\n",
      "{'publication': 'The computer comes of age', 'authors': ['Rene Moreau'], 'year': 1984, 'publication_venue': 'The computer comes of age', 'citations': [], 'index': '5'}\n"
     ]
    }
   ],
   "source": [
    "\n",
    "records = content.split(\"#*\")[1:]\n",
    "parsed_df = []\n",
    "\n",
    "for record in records:\n",
    "    \n",
    "    lines = record.strip().split(\"\\n\")\n",
    "    publications = lines[0].strip()  \n",
    "    authors = []\n",
    "    year = None\n",
    "    publication_venue = None\n",
    "    citations = []\n",
    "    index = None\n",
    "\n",
    "    for line in lines[1:]:\n",
    "        if line.startswith(\"#@\"):\n",
    "            authors = [author.strip() for author in line[2:].split(',')]\n",
    "        elif line.startswith(\"#t\"):\n",
    "            year = int(line[2:].strip())\n",
    "        elif line.startswith(\"#c\"):\n",
    "            publication_venue = line[2:].strip()\n",
    "        elif line.startswith(\"#%\"):\n",
    "            citations.append(line[2:].strip())\n",
    "        elif line.startswith(\"#index\"):\n",
    "            index = line[6:].strip()\n",
    "    \n",
    "    parsed_df.append({\n",
    "        \"publication\": publications,\n",
    "        \"authors\": authors,\n",
    "        \"year\": year,\n",
    "        \"publication_venue\": publication_venue,\n",
    "        \"citations\": citations,\n",
    "        \"index\": index\n",
    "    })\n",
    "\n",
    "for data in parsed_df[:5]:\n",
    "    print(data)"
   ]
  },
  {
   "cell_type": "code",
   "execution_count": 4,
   "id": "5dc624f7-ecc6-4d78-91db-641328859c26",
   "metadata": {},
   "outputs": [],
   "source": [
    "import pandas as pd"
   ]
  },
  {
   "cell_type": "code",
   "execution_count": 5,
   "id": "1b09e9d2-22bb-4553-a81b-c6431409f790",
   "metadata": {},
   "outputs": [
    {
     "data": {
      "text/html": [
       "<div>\n",
       "<style scoped>\n",
       "    .dataframe tbody tr th:only-of-type {\n",
       "        vertical-align: middle;\n",
       "    }\n",
       "\n",
       "    .dataframe tbody tr th {\n",
       "        vertical-align: top;\n",
       "    }\n",
       "\n",
       "    .dataframe thead th {\n",
       "        text-align: right;\n",
       "    }\n",
       "</style>\n",
       "<table border=\"1\" class=\"dataframe\">\n",
       "  <thead>\n",
       "    <tr style=\"text-align: right;\">\n",
       "      <th></th>\n",
       "      <th>publication</th>\n",
       "      <th>authors</th>\n",
       "      <th>year</th>\n",
       "      <th>publication_venue</th>\n",
       "      <th>citations</th>\n",
       "      <th>index</th>\n",
       "    </tr>\n",
       "  </thead>\n",
       "  <tbody>\n",
       "    <tr>\n",
       "      <th>0</th>\n",
       "      <td>MOSFET table look-up models for circuit simula...</td>\n",
       "      <td>[]</td>\n",
       "      <td>1984.0</td>\n",
       "      <td>Integration, the VLSI Journal</td>\n",
       "      <td>[]</td>\n",
       "      <td>1</td>\n",
       "    </tr>\n",
       "    <tr>\n",
       "      <th>1</th>\n",
       "      <td>The verification of the protection mechanisms ...</td>\n",
       "      <td>[Virgil D. Gligor]</td>\n",
       "      <td>1984.0</td>\n",
       "      <td>International Journal of Parallel Programming</td>\n",
       "      <td>[]</td>\n",
       "      <td>2</td>\n",
       "    </tr>\n",
       "    <tr>\n",
       "      <th>2</th>\n",
       "      <td>Another view of functional and multivalued dep...</td>\n",
       "      <td>[M. Gyssens, J. Paredaens]</td>\n",
       "      <td>1984.0</td>\n",
       "      <td>International Journal of Parallel Programming</td>\n",
       "      <td>[]</td>\n",
       "      <td>3</td>\n",
       "    </tr>\n",
       "    <tr>\n",
       "      <th>3</th>\n",
       "      <td>Entity-relationship diagrams which are in BCNF</td>\n",
       "      <td>[Sushil Jajodia, Peter A. Ng, Frederick N. Spr...</td>\n",
       "      <td>1984.0</td>\n",
       "      <td>International Journal of Parallel Programming</td>\n",
       "      <td>[]</td>\n",
       "      <td>4</td>\n",
       "    </tr>\n",
       "    <tr>\n",
       "      <th>4</th>\n",
       "      <td>The computer comes of age</td>\n",
       "      <td>[Rene Moreau]</td>\n",
       "      <td>1984.0</td>\n",
       "      <td>The computer comes of age</td>\n",
       "      <td>[]</td>\n",
       "      <td>5</td>\n",
       "    </tr>\n",
       "  </tbody>\n",
       "</table>\n",
       "</div>"
      ],
      "text/plain": [
       "                                         publication  \\\n",
       "0  MOSFET table look-up models for circuit simula...   \n",
       "1  The verification of the protection mechanisms ...   \n",
       "2  Another view of functional and multivalued dep...   \n",
       "3     Entity-relationship diagrams which are in BCNF   \n",
       "4                          The computer comes of age   \n",
       "\n",
       "                                             authors    year  \\\n",
       "0                                                 []  1984.0   \n",
       "1                                 [Virgil D. Gligor]  1984.0   \n",
       "2                         [M. Gyssens, J. Paredaens]  1984.0   \n",
       "3  [Sushil Jajodia, Peter A. Ng, Frederick N. Spr...  1984.0   \n",
       "4                                      [Rene Moreau]  1984.0   \n",
       "\n",
       "                               publication_venue citations index  \n",
       "0                  Integration, the VLSI Journal        []     1  \n",
       "1  International Journal of Parallel Programming        []     2  \n",
       "2  International Journal of Parallel Programming        []     3  \n",
       "3  International Journal of Parallel Programming        []     4  \n",
       "4                      The computer comes of age        []     5  "
      ]
     },
     "execution_count": 5,
     "metadata": {},
     "output_type": "execute_result"
    }
   ],
   "source": [
    "df1 = pd.DataFrame(parsed_df)\n",
    "df1.head()"
   ]
  },
  {
   "cell_type": "code",
   "execution_count": 6,
   "id": "6626ba89-d3e8-47a6-b041-e4af1117c679",
   "metadata": {},
   "outputs": [],
   "source": [
    "\n",
    "df1['citation_count'] = df1['citations'].apply(lambda x: len(x) if x != \"N/A\" else 0)"
   ]
  },
  {
   "cell_type": "code",
   "execution_count": 7,
   "id": "ab4a013e-5a13-4695-878c-a00e83e3f45b",
   "metadata": {},
   "outputs": [
    {
     "data": {
      "text/html": [
       "<div>\n",
       "<style scoped>\n",
       "    .dataframe tbody tr th:only-of-type {\n",
       "        vertical-align: middle;\n",
       "    }\n",
       "\n",
       "    .dataframe tbody tr th {\n",
       "        vertical-align: top;\n",
       "    }\n",
       "\n",
       "    .dataframe thead th {\n",
       "        text-align: right;\n",
       "    }\n",
       "</style>\n",
       "<table border=\"1\" class=\"dataframe\">\n",
       "  <thead>\n",
       "    <tr style=\"text-align: right;\">\n",
       "      <th></th>\n",
       "      <th>publication</th>\n",
       "      <th>authors</th>\n",
       "      <th>year</th>\n",
       "      <th>publication_venue</th>\n",
       "      <th>citations</th>\n",
       "      <th>index</th>\n",
       "      <th>citation_count</th>\n",
       "    </tr>\n",
       "  </thead>\n",
       "  <tbody>\n",
       "    <tr>\n",
       "      <th>0</th>\n",
       "      <td>MOSFET table look-up models for circuit simula...</td>\n",
       "      <td>[]</td>\n",
       "      <td>1984.0</td>\n",
       "      <td>Integration, the VLSI Journal</td>\n",
       "      <td>[]</td>\n",
       "      <td>1</td>\n",
       "      <td>0</td>\n",
       "    </tr>\n",
       "    <tr>\n",
       "      <th>1</th>\n",
       "      <td>The verification of the protection mechanisms ...</td>\n",
       "      <td>[Virgil D. Gligor]</td>\n",
       "      <td>1984.0</td>\n",
       "      <td>International Journal of Parallel Programming</td>\n",
       "      <td>[]</td>\n",
       "      <td>2</td>\n",
       "      <td>0</td>\n",
       "    </tr>\n",
       "    <tr>\n",
       "      <th>2</th>\n",
       "      <td>Another view of functional and multivalued dep...</td>\n",
       "      <td>[M. Gyssens, J. Paredaens]</td>\n",
       "      <td>1984.0</td>\n",
       "      <td>International Journal of Parallel Programming</td>\n",
       "      <td>[]</td>\n",
       "      <td>3</td>\n",
       "      <td>0</td>\n",
       "    </tr>\n",
       "    <tr>\n",
       "      <th>3</th>\n",
       "      <td>Entity-relationship diagrams which are in BCNF</td>\n",
       "      <td>[Sushil Jajodia, Peter A. Ng, Frederick N. Spr...</td>\n",
       "      <td>1984.0</td>\n",
       "      <td>International Journal of Parallel Programming</td>\n",
       "      <td>[]</td>\n",
       "      <td>4</td>\n",
       "      <td>0</td>\n",
       "    </tr>\n",
       "    <tr>\n",
       "      <th>4</th>\n",
       "      <td>The computer comes of age</td>\n",
       "      <td>[Rene Moreau]</td>\n",
       "      <td>1984.0</td>\n",
       "      <td>The computer comes of age</td>\n",
       "      <td>[]</td>\n",
       "      <td>5</td>\n",
       "      <td>0</td>\n",
       "    </tr>\n",
       "  </tbody>\n",
       "</table>\n",
       "</div>"
      ],
      "text/plain": [
       "                                         publication  \\\n",
       "0  MOSFET table look-up models for circuit simula...   \n",
       "1  The verification of the protection mechanisms ...   \n",
       "2  Another view of functional and multivalued dep...   \n",
       "3     Entity-relationship diagrams which are in BCNF   \n",
       "4                          The computer comes of age   \n",
       "\n",
       "                                             authors    year  \\\n",
       "0                                                 []  1984.0   \n",
       "1                                 [Virgil D. Gligor]  1984.0   \n",
       "2                         [M. Gyssens, J. Paredaens]  1984.0   \n",
       "3  [Sushil Jajodia, Peter A. Ng, Frederick N. Spr...  1984.0   \n",
       "4                                      [Rene Moreau]  1984.0   \n",
       "\n",
       "                               publication_venue citations index  \\\n",
       "0                  Integration, the VLSI Journal        []     1   \n",
       "1  International Journal of Parallel Programming        []     2   \n",
       "2  International Journal of Parallel Programming        []     3   \n",
       "3  International Journal of Parallel Programming        []     4   \n",
       "4                      The computer comes of age        []     5   \n",
       "\n",
       "   citation_count  \n",
       "0               0  \n",
       "1               0  \n",
       "2               0  \n",
       "3               0  \n",
       "4               0  "
      ]
     },
     "execution_count": 7,
     "metadata": {},
     "output_type": "execute_result"
    }
   ],
   "source": [
    "df1.head()"
   ]
  },
  {
   "cell_type": "code",
   "execution_count": 15,
   "id": "1982d363-4396-4548-a805-25376429570c",
   "metadata": {},
   "outputs": [],
   "source": [
    "df1 = pd.read_csv(\"aminer_parsed.csv\")"
   ]
  },
  {
   "cell_type": "markdown",
   "id": "fb4dea46-2947-4e87-9e0a-9835660aac52",
   "metadata": {},
   "source": [
    "Question A)"
   ]
  },
  {
   "cell_type": "code",
   "execution_count": 14,
   "id": "3cd2d1c8-7f6c-4e2a-b631-ebef5c7d9496",
   "metadata": {},
   "outputs": [],
   "source": [
    "distinct_authors = df1['authors'].explode().nunique()\n",
    "distinct_citations = df1['citations'].explode().nunique()\n",
    "distinct_venues = df1['publication_venue'].nunique()\n",
    "distinct_publications = df1['publication'].nunique()"
   ]
  },
  {
   "cell_type": "code",
   "execution_count": 16,
   "id": "d6e0d0ba-7fdc-45b1-95f3-5ece80f9ef2d",
   "metadata": {},
   "outputs": [
    {
     "name": "stdout",
     "output_type": "stream",
     "text": [
      "The number of distinct Authors are: 1651564\n"
     ]
    }
   ],
   "source": [
    "print(f\"The number of distinct Authors are: {distinct_authors}\")"
   ]
  },
  {
   "cell_type": "code",
   "execution_count": 18,
   "id": "462d52a8-f60e-4190-a01e-0db427999b1e",
   "metadata": {},
   "outputs": [
    {
     "name": "stdout",
     "output_type": "stream",
     "text": [
      "The number of distinct citations are: 1007495\n"
     ]
    }
   ],
   "source": [
    "print(f\"The number of distinct citations are: {distinct_citations}\")"
   ]
  },
  {
   "cell_type": "code",
   "execution_count": 20,
   "id": "ef114dd7-a14b-4077-89ac-e6bf90eb9aef",
   "metadata": {},
   "outputs": [
    {
     "name": "stdout",
     "output_type": "stream",
     "text": [
      "The number of distinct venues are: 273329\n"
     ]
    }
   ],
   "source": [
    "print(f\"The number of distinct venues are: {distinct_venues}\")"
   ]
  },
  {
   "cell_type": "code",
   "execution_count": 22,
   "id": "c4c92bae-31b4-4dd6-ac75-52ff45f88b1f",
   "metadata": {},
   "outputs": [
    {
     "name": "stdout",
     "output_type": "stream",
     "text": [
      "The number of distinct publications are: 2183552\n"
     ]
    }
   ],
   "source": [
    "print(f\"The number of distinct publications are: {distinct_publications}\")"
   ]
  },
  {
   "cell_type": "markdown",
   "id": "a48cdb12-9572-45ef-8387-42d93135d7db",
   "metadata": {},
   "source": [
    "Question B)"
   ]
  },
  {
   "cell_type": "code",
   "execution_count": 25,
   "id": "8b701f73-2bbb-4af6-a0db-e6c16a7bb393",
   "metadata": {},
   "outputs": [
    {
     "data": {
      "text/plain": [
       "799594     PKDD '04 Proceedings of the 8th European Confe...\n",
       "799731     PKDD '04 Proceedings of the 8th European Confe...\n",
       "799732     PKDD '04 Proceedings of the 8th European Confe...\n",
       "799733     PKDD '04 Proceedings of the 8th European Confe...\n",
       "799734     PKDD '04 Proceedings of the 8th European Confe...\n",
       "                                 ...                        \n",
       "1673597    PKDD'05 Proceedings of the 9th European confer...\n",
       "1673598    PKDD'05 Proceedings of the 9th European confer...\n",
       "1673599    PKDD'05 Proceedings of the 9th European confer...\n",
       "1673600    PKDD'05 Proceedings of the 9th European confer...\n",
       "1673601    PKDD'05 Proceedings of the 9th European confer...\n",
       "Name: publication_venue, Length: 212, dtype: object"
      ]
     },
     "execution_count": 25,
     "metadata": {},
     "output_type": "execute_result"
    }
   ],
   "source": [
    "associated_venues = df1[df1['publication_venue'].str.contains(\"Principles and Practice of Knowledge Discovery in Databases\", na=False)]\n",
    "associated_venues['publication_venue']"
   ]
  },
  {
   "cell_type": "markdown",
   "id": "f0a1ec78-09aa-4284-b4ea-97bed076232a",
   "metadata": {},
   "source": [
    "The numbers observed in Question A may not be entirely accurate because the publication venue column contains inconsistencies in formatting. For example, some venue names include the year directly attached, while others do not, and there are variations in spacing. Similarly, author names may sometimes be recorded using initials instead of full names, further contributing to inconsistencies. These formatting issues, along with other potential discrepancies, could lead to inaccuracies in the data."
   ]
  },
  {
   "cell_type": "markdown",
   "id": "98891a45-dda2-43b4-85a9-4f7572481f49",
   "metadata": {},
   "source": [
    "Question C)"
   ]
  },
  {
   "cell_type": "code",
   "execution_count": 29,
   "id": "fcbc31fc-bd45-40f7-92c8-8f13b05a1673",
   "metadata": {},
   "outputs": [],
   "source": [
    "import matplotlib.pyplot as plt"
   ]
  },
  {
   "cell_type": "code",
   "execution_count": 31,
   "id": "d182a267-0a77-4f80-bbe5-d45cfd816ff6",
   "metadata": {},
   "outputs": [],
   "source": [
    "df_authors = df1.explode('authors')\n",
    "df_authors = df_authors[df_authors['authors'] != \"N/A\"]\n",
    "no_publications = df_authors.groupby('authors').size()"
   ]
  },
  {
   "cell_type": "code",
   "execution_count": 32,
   "id": "77fdb08a-af4b-4b48-ac94-bf6ad3c64be1",
   "metadata": {},
   "outputs": [
    {
     "data": {
      "image/png": "[encoded data removed]",
      "text/plain": [
       "<Figure size 1000x700 with 1 Axes>"
      ]
     },
     "metadata": {},
     "output_type": "display_data"
    }
   ],
   "source": [
    "plt.figure(figsize = (10,7))\n",
    "plt.hist(no_publications,bins=30)\n",
    "plt.yscale('log')\n",
    "plt.title(\"Histogram plot of number of publications per author\")\n",
    "plt.xlabel(\"No of Publications\")\n",
    "plt.ylabel(\"No of Authors\")\n",
    "plt.show()\n"
   ]
  },
  {
   "cell_type": "markdown",
   "id": "10221c44-5cad-4def-9a97-63e1dcafc842",
   "metadata": {},
   "source": [
    "Question D)"
   ]
  },
  {
   "cell_type": "code",
   "execution_count": 36,
   "id": "e4a8776c-f93a-4ddd-a908-f26f34499312",
   "metadata": {},
   "outputs": [
    {
     "name": "stdout",
     "output_type": "stream",
     "text": [
      "The mean of the number of publications is: 3.4625936385147655\n",
      "The standard deviation of the number of publications is: 12.772606318707094\n",
      "The first quartile of the number of publications is: 1.0\n",
      "The second quartile (median) of the number of publications is: 1.0\n",
      "The third quartile of the number of publications is: 3.0\n"
     ]
    }
   ],
   "source": [
    "mean_publication = no_publications.mean()\n",
    "std_dev_publication = no_publications.std()\n",
    "Q1_publication = no_publications.quantile(0.25)\n",
    "Q2_publication = no_publications.quantile(0.5)\n",
    "Q3_publication = no_publications.quantile(0.75)\n",
    "\n",
    "print(f\"The mean of the number of publications is: {mean_publication}\")\n",
    "print(f\"The standard deviation of the number of publications is: {std_dev_publication}\")\n",
    "print(f\"The first quartile of the number of publications is: {Q1_publication}\")\n",
    "print(f\"The second quartile (median) of the number of publications is: {Q2_publication}\")\n",
    "print(f\"The third quartile of the number of publications is: {Q3_publication}\")"
   ]
  },
  {
   "cell_type": "markdown",
   "id": "7e180be1-b30c-47c8-b8b6-f5ed07b0e1fb",
   "metadata": {},
   "source": [
    "The mean is much larger than the median, suggesting that the data distribution for the number of publications per author is right-skewed. This means that a large number of authors have a lower number of publications, and only a few authors have a significantly higher number of publications. The large standard deviation also confirms our hypothesis that there is a large spread in the distribution of the data. \n",
    "- The value Q1 = 1 suggests that 25% of authors have 1 publication.\n",
    "- The value Q2 = 1 suggests that 50% (median) of the authors have 1 publication.\n",
    "- The value Q3 = 3 suggests that 75% of authors have 3 or less than 3 publications.\n",
    "- The median for the distribution is low as it is less affected by the outliers (authors with high number of publications)"
   ]
  },
  {
   "cell_type": "markdown",
   "id": "c83cbbaa-fc86-43fa-a910-118caf05a670",
   "metadata": {},
   "source": [
    "Question E)"
   ]
  },
  {
   "cell_type": "code",
   "execution_count": 40,
   "id": "9f14cb25-b244-46a0-8d0a-103a874193b1",
   "metadata": {},
   "outputs": [],
   "source": [
    "venue_counts = df1['publication_venue'].value_counts()"
   ]
  },
  {
   "cell_type": "code",
   "execution_count": 42,
   "id": "6e06ae8e-5903-4890-9dbe-32a335c0b37e",
   "metadata": {},
   "outputs": [
    {
     "data": {
      "image/png": "[encoded data removed]",
      "text/plain": [
       "<Figure size 1000x700 with 1 Axes>"
      ]
     },
     "metadata": {},
     "output_type": "display_data"
    }
   ],
   "source": [
    "plt.figure(figsize = (10,7))\n",
    "plt.hist(venue_counts, bins = 30)\n",
    "plt.yscale('log')\n",
    "plt.title(\"Histogram plot of number of publications per venue\")\n",
    "plt.xlabel(\"No of Publications\")\n",
    "plt.ylabel(\"Frequency\")\n",
    "plt.show()"
   ]
  },
  {
   "cell_type": "code",
   "execution_count": 44,
   "id": "0dd151ba-a3f1-4258-bd30-7b78945147b2",
   "metadata": {},
   "outputs": [],
   "source": [
    "mean_venue = venue_counts.mean()\n",
    "std_venue = venue_counts.std()\n",
    "median_venue = venue_counts.median()\n",
    "q1_venue = venue_counts.quantile(0.25)\n",
    "q3_venue = venue_counts.quantile(0.75)"
   ]
  },
  {
   "cell_type": "code",
   "execution_count": 46,
   "id": "4c7580b2-a930-4573-b898-6ce2ffba97da",
   "metadata": {},
   "outputs": [
    {
     "name": "stdout",
     "output_type": "stream",
     "text": [
      "The mean of number of publications per venue is: 8.725323694156128\n",
      "The standard deviation of number of publications per venue is: 106.78885738942793\n",
      "The median of number of publications per venue is: 1.0\n",
      "The Q1 of number of publications per venue is: 1.0\n",
      "The Q3 of number of publications per venue is: 1.0\n"
     ]
    }
   ],
   "source": [
    "print(f\"The mean of number of publications per venue is: {mean_venue}\")\n",
    "print(f\"The standard deviation of number of publications per venue is: {std_venue}\")\n",
    "print(f\"The median of number of publications per venue is: {median_venue}\")\n",
    "print(f\"The Q1 of number of publications per venue is: {q1_venue}\")\n",
    "print(f\"The Q3 of number of publications per venue is: {q3_venue}\")"
   ]
  },
  {
   "cell_type": "markdown",
   "id": "f28a1b1e-49f1-48e0-808b-f035556b8132",
   "metadata": {},
   "source": [
    "Here as well, we can observe that the mean is much larger than the median, suggesting that the data distribution is right-skewed. The stddev is also very high, suggesting that the data is wide spread, but these are very high as a few venues are having a significantly larger number of publications. "
   ]
  },
  {
   "cell_type": "code",
   "execution_count": 49,
   "id": "29a29155-6af7-41ce-bc52-759eb4c5f243",
   "metadata": {},
   "outputs": [],
   "source": [
    "max_venue = venue_counts.idxmax()\n",
    "no_max = venue_counts.max()"
   ]
  },
  {
   "cell_type": "code",
   "execution_count": 51,
   "id": "a4da8793-3ef1-49cf-bd23-50fabd46da66",
   "metadata": {},
   "outputs": [
    {
     "name": "stdout",
     "output_type": "stream",
     "text": [
      "The venue with most number of publications is IEEE Transactions on Information Theory and it has around 12754 number of publications\n"
     ]
    }
   ],
   "source": [
    "print(f\"The venue with most number of publications is {max_venue} and it has around {no_max} number of publications\")"
   ]
  },
  {
   "cell_type": "markdown",
   "id": "bb09f234-d9b0-4941-bb94-379f1df2e468",
   "metadata": {},
   "source": [
    "Question F)"
   ]
  },
  {
   "cell_type": "code",
   "execution_count": 54,
   "id": "a3b32e41-9c16-420c-98f6-b5a123a33e98",
   "metadata": {},
   "outputs": [],
   "source": [
    "df1[\"references_count\"] = 0\n",
    "citation_map = {}\n",
    "for index, citations in zip(df1[\"index\"], df1[\"citations\"]):\n",
    "    for citation in citations:\n",
    "        citation_map[citation] = citation_map.get(citation,0)+1\n",
    "\n",
    "df1[\"references_by_count\"] = df1['index'].apply(lambda x: citation_map.get(x,0))\n"
   ]
  },
  {
   "cell_type": "code",
   "execution_count": 55,
   "id": "7b617790-e7ea-4795-8e6e-180a5c45b745",
   "metadata": {},
   "outputs": [
    {
     "data": {
      "image/png": "[encoded data removed]",
      "text/plain": [
       "<Figure size 1000x700 with 1 Axes>"
      ]
     },
     "metadata": {},
     "output_type": "display_data"
    }
   ],
   "source": [
    "plt.figure(figsize = (10,7))\n",
    "plt.title(\"Histogram for Number of references for a publication\")\n",
    "plt.hist(df1['citation_count'], bins = 30)\n",
    "plt.yscale(\"log\")\n",
    "plt.xlabel(\"Count of Citations\")\n",
    "plt.ylabel(\"Frequency\")\n",
    "plt.show()\n"
   ]
  },
  {
   "cell_type": "code",
   "execution_count": 64,
   "id": "369d8213-f13e-45bc-93dc-3ad0cd9f5b91",
   "metadata": {},
   "outputs": [
    {
     "data": {
      "image/png": "[encoded data removed]",
      "text/plain": [
       "<Figure size 1000x700 with 1 Axes>"
      ]
     },
     "metadata": {},
     "output_type": "display_data"
    }
   ],
   "source": [
    "plt.figure(figsize = (10,7))\n",
    "plt.title(\"Histogram for Number of times a publication was reffered\")\n",
    "plt.hist(df1['references_by_count'], bins = 30)\n",
    "plt.yscale(\"log\")\n",
    "plt.xlabel(\"Count of Citations\")\n",
    "plt.ylabel(\"Frequency\")\n",
    "plt.show()\n"
   ]
  },
  {
   "cell_type": "code",
   "execution_count": 66,
   "id": "838b870c-3789-4f0b-9e78-84c3f92a489e",
   "metadata": {},
   "outputs": [],
   "source": [
    "max_references = df1['citation_count'].max()\n",
    "max_ref_publication = df1[df1[\"citation_count\"] == max_references]"
   ]
  },
  {
   "cell_type": "code",
   "execution_count": 68,
   "id": "0babac82-521a-49b1-a113-1ef4b78be8c3",
   "metadata": {},
   "outputs": [
    {
     "data": {
      "text/plain": [
       "2015194    Proceedings of the Twenty-Fourth ACM Symposium...\n",
       "Name: publication, dtype: object"
      ]
     },
     "execution_count": 68,
     "metadata": {},
     "output_type": "execute_result"
    }
   ],
   "source": [
    "max_ref_publication[\"publication\"]"
   ]
  },
  {
   "cell_type": "code",
   "execution_count": 70,
   "id": "fc141b09-d1c1-47bc-b9e6-835dace22edd",
   "metadata": {},
   "outputs": [],
   "source": [
    "max_references_by = df1['references_by_count'].max()\n",
    "max_ref_by_publication = df1[df1[\"references_by_count\"] == max_references_by]"
   ]
  },
  {
   "cell_type": "code",
   "execution_count": 72,
   "id": "1da99572-deb3-4b4b-85ce-7baa93abdb44",
   "metadata": {},
   "outputs": [
    {
     "data": {
      "text/plain": [
       "2134956    INFORMS Journal on Computing\n",
       "Name: publication, dtype: object"
      ]
     },
     "execution_count": 72,
     "metadata": {},
     "output_type": "execute_result"
    }
   ],
   "source": [
    "max_ref_by_publication[\"publication\"]"
   ]
  },
  {
   "cell_type": "code",
   "execution_count": 74,
   "id": "54ee05d5-56f7-4aa0-9645-89608aecfa7d",
   "metadata": {},
   "outputs": [
    {
     "name": "stdout",
     "output_type": "stream",
     "text": [
      "The journal which has referenced most number of publications is: 2015194    Proceedings of the Twenty-Fourth ACM Symposium...\n",
      "Name: publication, dtype: object\n",
      "The Journal which was references by other publications most number of times is: 2134956    INFORMS Journal on Computing\n",
      "Name: publication, dtype: object\n"
     ]
    }
   ],
   "source": [
    "print(f\"The journal which has referenced most number of publications is: {max_ref_publication[\"publication\"]}\")\n",
    "print(f\"The Journal which was references by other publications most number of times is: {max_ref_by_publication[\"publication\"]}\")"
   ]
  },
  {
   "cell_type": "markdown",
   "id": "7425ce08-6101-4784-aae4-65793f83ccc2",
   "metadata": {},
   "source": [
    "For me, based on what I have seen, it makes sense because a journal like ACM using so many references makes sense to me. On the other hand, an informs journal may be something like foundational research, thus being referenced so many times."
   ]
  },
  {
   "cell_type": "markdown",
   "id": "c39554e9-a23d-4f92-8003-33b03e66ad7d",
   "metadata": {},
   "source": [
    "Question G)"
   ]
  },
  {
   "cell_type": "code",
   "execution_count": 78,
   "id": "d4c08b5c-a9fd-4d2a-bab9-1d7280cb1be7",
   "metadata": {},
   "outputs": [],
   "source": [
    "venue_stats = df1.groupby('publication_venue').agg(total_citations = ('citation_count','sum'), publication_count = ('publication','count')).reset_index()"
   ]
  },
  {
   "cell_type": "code",
   "execution_count": 80,
   "id": "2ffb950d-d6e7-41ce-b2e3-a9e5de7f72f9",
   "metadata": {},
   "outputs": [
    {
     "data": {
      "image/png": "[encoded data removed]",
      "text/plain": [
       "<Figure size 1000x700 with 1 Axes>"
      ]
     },
     "metadata": {},
     "output_type": "display_data"
    }
   ],
   "source": [
    "venue_stats[\"impact_factor\"] = venue_stats[\"total_citations\"]/venue_stats[\"publication_count\"]\n",
    "\n",
    "plt.figure(figsize=(10, 7))\n",
    "plt.yscale(\"log\")\n",
    "plt.hist(venue_stats[\"impact_factor\"], bins=30)\n",
    "plt.title(\"Histogram of impact factors scores\")\n",
    "plt.xlabel(\"Impact Factor\")\n",
    "plt.ylabel(\"Frequency\")\n",
    "plt.show()"
   ]
  },
  {
   "cell_type": "markdown",
   "id": "ac14f73e-7f32-4451-95bb-03cbf5a05b79",
   "metadata": {},
   "source": [
    "Question H)"
   ]
  },
  {
   "cell_type": "code",
   "execution_count": 83,
   "id": "ff16fd7a-8512-46d9-8cdc-70da9716d5e0",
   "metadata": {},
   "outputs": [],
   "source": [
    "highest_impact_venue = venue_stats.loc[venue_stats['impact_factor'].idxmax()]\n"
   ]
  },
  {
   "cell_type": "code",
   "execution_count": 85,
   "id": "49c9a836-fdbb-4fb5-ae13-0fea48348b8e",
   "metadata": {},
   "outputs": [
    {
     "name": "stdout",
     "output_type": "stream",
     "text": [
      "The venue with the highest impact factor score is: publication_venue    System-on-Chip Test Architectures: Nanometer D...\n",
      "total_citations                                                    556\n",
      "publication_count                                                    1\n",
      "impact_factor                                                    556.0\n",
      "Name: 231737, dtype: object\n"
     ]
    }
   ],
   "source": [
    "print(f\"The venue with the highest impact factor score is: {highest_impact_venue}\")"
   ]
  },
  {
   "cell_type": "code",
   "execution_count": 87,
   "id": "6594ed2c-65aa-4d7b-b7e8-8ed13accbaa2",
   "metadata": {},
   "outputs": [],
   "source": [
    "venue_stats.drop('impact_factor',axis=1,inplace = True)"
   ]
  },
  {
   "cell_type": "markdown",
   "id": "676c42d9-f600-479a-a0d5-cf1537979290",
   "metadata": {},
   "source": [
    "I think this impact factor is not a valid one, as from the given reference, a very good impact score is considered around 20, but in our case, it is a ridiculously high number, which has to be incorrect."
   ]
  },
  {
   "cell_type": "markdown",
   "id": "aa2dc120-322a-4c3b-8fd5-50a20dac7ad7",
   "metadata": {},
   "source": [
    "Question I)"
   ]
  },
  {
   "cell_type": "code",
   "execution_count": 89,
   "id": "1fc763b5-c14e-4d23-8f15-679ae0200a1e",
   "metadata": {},
   "outputs": [
    {
     "name": "stderr",
     "output_type": "stream",
     "text": [
      "/var/folders/lq/w3949rrj5b9gxkllt0m0pjcm0000gn/T/ipykernel_1723/1194144205.py:2: SettingWithCopyWarning: \n",
      "A value is trying to be set on a copy of a slice from a DataFrame.\n",
      "Try using .loc[row_indexer,col_indexer] = value instead\n",
      "\n",
      "See the caveats in the documentation: https://pandas.pydata.org/pandas-docs/stable/user_guide/indexing.html#returning-a-view-versus-a-copy\n",
      "  venue_stats_new['impact_factor'] = venue_stats_new['total_citations']/venue_stats_new['publication_count']\n"
     ]
    }
   ],
   "source": [
    "venue_stats_new = venue_stats[venue_stats['publication_count'] >= 10]\n",
    "venue_stats_new['impact_factor'] = venue_stats_new['total_citations']/venue_stats_new['publication_count']"
   ]
  },
  {
   "cell_type": "code",
   "execution_count": 91,
   "id": "189e027d-33f0-4798-b862-03994f0f75d2",
   "metadata": {},
   "outputs": [
    {
     "data": {
      "image/png": "[encoded data removed]",
      "text/plain": [
       "<Figure size 1000x700 with 1 Axes>"
      ]
     },
     "metadata": {},
     "output_type": "display_data"
    }
   ],
   "source": [
    "plt.figure(figsize = (10,7))\n",
    "plt.title(\"Histogram of the impact score with the restriction\")\n",
    "plt.hist(venue_stats_new[\"impact_factor\"])\n",
    "plt.yscale(\"log\")\n",
    "plt.xlabel(\"Impact factor Score for venues\")\n",
    "plt.ylabel(\"Frequency\")\n",
    "plt.show()"
   ]
  },
  {
   "cell_type": "markdown",
   "id": "91bf0a35-734e-491c-83d9-feed4d41031f",
   "metadata": {},
   "source": [
    "The histogram after the restrictions is much more well distributed and also has more number of publications towards the higher impact factor score area. This suggests that by imposing the restrictions, we have essentially removed the error of low publication number venues distorting the values of our impact factor score."
   ]
  },
  {
   "cell_type": "code",
   "execution_count": 94,
   "id": "95590403-d441-4fd2-9b86-b0896e28b72f",
   "metadata": {},
   "outputs": [],
   "source": [
    "highest_publication_venue_new = venue_stats_new.loc[venue_stats_new['impact_factor'].idxmax()]\n",
    "highest_venue_name = highest_publication_venue_new.publication_venue"
   ]
  },
  {
   "cell_type": "code",
   "execution_count": 96,
   "id": "a018ed6b-388e-4453-8a55-1d22c9f1d0e8",
   "metadata": {},
   "outputs": [],
   "source": [
    "highest_venue_citations = df1[df1['publication_venue'] == highest_venue_name]['citation_count']"
   ]
  },
  {
   "cell_type": "code",
   "execution_count": 98,
   "id": "ad482d6a-1bc3-4524-aea8-d65e659fa2ff",
   "metadata": {},
   "outputs": [
    {
     "name": "stdout",
     "output_type": "stream",
     "text": [
      "The venue with the highest impact factor is A 25-year perspective on logic programming with \n",
      " 1488863      4\n",
      "1488864     38\n",
      "1488865     59\n",
      "1488866     84\n",
      "1488867     70\n",
      "1488868     41\n",
      "1488869     66\n",
      "1488870    105\n",
      "1488871     80\n",
      "1488872    103\n",
      "1488873     47\n",
      "1488874     38\n",
      "1488875     51\n",
      "1488876     70\n",
      "Name: citation_count, dtype: int64 number of citations\n"
     ]
    }
   ],
   "source": [
    "print(f\"The venue with the highest impact factor is {highest_venue_name} with \\n {highest_venue_citations} number of citations\")"
   ]
  },
  {
   "cell_type": "code",
   "execution_count": 100,
   "id": "a151b83a-6ad6-42ef-af67-a72b3252ae2f",
   "metadata": {},
   "outputs": [],
   "source": [
    "mean_citations = highest_venue_citations.mean()\n",
    "median_citations = highest_venue_citations.median()"
   ]
  },
  {
   "cell_type": "code",
   "execution_count": 102,
   "id": "176db55b-719b-4247-8b4c-5ed5ebd948d0",
   "metadata": {},
   "outputs": [
    {
     "name": "stdout",
     "output_type": "stream",
     "text": [
      "Impact factor (mean number of citations): 61.142857142857146\n",
      "Median number of citations: 62.5\n"
     ]
    }
   ],
   "source": [
    "print(f\"Impact factor (mean number of citations): {mean_citations}\")\n",
    "print(f\"Median number of citations: {median_citations}\")"
   ]
  },
  {
   "cell_type": "markdown",
   "id": "61f7f295-3006-491d-8f02-093474b48d19",
   "metadata": {},
   "source": [
    "As we can see from the above statement, both the mean and median are pretty similar to each other, suggesting that the data distribution for the number of citations for this venue is pretty symetric. While the slightly higher median indicates that there are a few publications that have a smaller number of citations, which ends up pulling the mean down."
   ]
  },
  {
   "cell_type": "markdown",
   "id": "a4dad0fa-8ac6-4af1-bb66-964a55e589f4",
   "metadata": {},
   "source": [
    "Question J)"
   ]
  },
  {
   "cell_type": "code",
   "execution_count": 106,
   "id": "e35cc7f8-4062-4650-84b0-51ee6c6719c5",
   "metadata": {},
   "outputs": [],
   "source": [
    "yearly_stats = df1.groupby(\"year\").agg(avg_references = ('citation_count','mean'), avg_citations_by = ('references_by_count','mean')).reset_index()"
   ]
  },
  {
   "cell_type": "code",
   "execution_count": 108,
   "id": "d3979aaf-8db5-460e-8a1c-6123c317be32",
   "metadata": {},
   "outputs": [
    {
     "data": {
      "image/png": "[encoded data removed]",
      "text/plain": [
       "<Figure size 1000x700 with 1 Axes>"
      ]
     },
     "metadata": {},
     "output_type": "display_data"
    }
   ],
   "source": [
    "plt.figure(figsize = (10,7))\n",
    "plt.plot(yearly_stats['year'],yearly_stats['avg_references'], label = \"Number of References used\")\n",
    "plt.plot(yearly_stats['year'], yearly_stats['avg_citations_by'], label = \"Number of citations by other publications\")\n",
    "plt.title(\"Avg citations vs Avg References\")\n",
    "plt.xlabel(\"Year\")\n",
    "plt.ylabel(\"Avergae count\")\n",
    "plt.legend()\n",
    "plt.show()"
   ]
  },
  {
   "cell_type": "markdown",
   "id": "6de833f3-86cc-4341-a7a0-602ecf7d73bc",
   "metadata": {},
   "source": [
    "The observations from this plot diagram are that between the years 1940-1950 there was a significant rise in the number of citations for a particular journal. We can get more insights after finding out which this particular publication is. Other than that, both of these averages follow a certain pattern till the year 2000. During the year 2010, we see a drop in the number of publications referenced, maybe showing insights that there was not a very good publication from this venue during that period. In contrast to this, there was a sudden spike during 2015 again because of some famous foundational research publications. For the references chart, we can see it follows a progressive chart, but after 2015, it sees a sharp drop, maybe because there were few journals/publications published after that."
   ]
  },
  {
   "cell_type": "markdown",
   "id": "98a8123c-fe2e-487b-937f-0a6fa13696e9",
   "metadata": {},
   "source": [
    "## Question 2"
   ]
  },
  {
   "cell_type": "markdown",
   "id": "b06da80d-4170-4ee0-9e6d-442ae607b095",
   "metadata": {},
   "source": [
    "Task A)"
   ]
  },
  {
   "cell_type": "code",
   "execution_count": 112,
   "id": "7e9d3c97-e4cc-41c0-80e3-808d601f1c65",
   "metadata": {},
   "outputs": [],
   "source": [
    "import os"
   ]
  },
  {
   "cell_type": "code",
   "execution_count": 6,
   "id": "fb0fadaa-6e5b-4bf3-b4da-9dd52070545c",
   "metadata": {},
   "outputs": [],
   "source": [
    "def convert_to_sparse_arff(input_file, output_file='kosarak.arff'):\n",
    "    unique_items = set()\n",
    "    transaction_count = 0\n",
    "\n",
    "    with open(input_file, 'r') as f:\n",
    "        for line in f:\n",
    "            items = line.strip().split()\n",
    "            cleaned_items = [item.strip() for item in items if item.strip()]\n",
    "            unique_items.update(cleaned_items)\n",
    "            transaction_count += 1\n",
    "    \n",
    "    print(f\"Found {len(unique_items)} unique items across {transaction_count} transactions\")\n",
    "    \n",
    "    sorted_items = sorted(unique_items)\n",
    "    \n",
    "    with open(output_file, 'w') as out_f:\n",
    "        out_f.write(\"% Converted transaction data for Weka association rule mining\\n\")\n",
    "        out_f.write(\"@RELATION kosarak\\n\\n\")\n",
    "        for item in sorted_items:\n",
    "            attr_name = f\"item_{item}\"\n",
    "            out_f.write(f\"@ATTRIBUTE {attr_name} {{0,1}}\\n\")\n",
    "        out_f.write(\"\\n\")\n",
    "        out_f.write(\"@DATA\\n\")\n",
    "        \n",
    "        with open(input_file, 'r') as in_f:\n",
    "            for line_num, line in enumerate(in_f, 1):\n",
    "                items = line.strip().split()\n",
    "                cleaned_items = [item.strip() for item in items if item.strip()]\n",
    "                sparse_dict = {}\n",
    "                for item in cleaned_items:\n",
    "                    item_index = sorted_items.index(item)\n",
    "                    sparse_dict[item_index] = 1\n",
    "            \n",
    "                sorted_indices = sorted(sparse_dict.keys())\n",
    "                sparse_entries = [f\"{idx} 1\" for idx in sorted_indices]\n",
    "            \n",
    "                if sparse_entries:\n",
    "                    out_f.write(f\"{{{', '.join(sparse_entries)}}}\\n\")\n",
    "                else:\n",
    "                    out_f.write(\"{}\\n\")\n",
    "            \n",
    "    \n",
    "    print(f\"\\nConversion complete! ARFF file saved as: {output_file}\")\n",
    "    return True\n",
    "\n",
    "def process_file(input_path):\n",
    "    try:\n",
    "        convert_to_sparse_arff(input_path)\n",
    "        return True\n",
    "    except Exception as e:\n",
    "        print(f\"Error during conversion: {str(e)}\")\n",
    "        return False"
   ]
  },
  {
   "cell_type": "markdown",
   "id": "0b761604-f251-4d67-b2c0-4f1c24b11184",
   "metadata": {},
   "source": [
    "Task B)"
   ]
  },
  {
   "cell_type": "code",
   "execution_count": 9,
   "id": "775c4251-ba3a-4de3-ab55-da4b5839f479",
   "metadata": {},
   "outputs": [
    {
     "name": "stdout",
     "output_type": "stream",
     "text": [
      "Found 41270 unique items across 990002 transactions\n",
      "\n",
      "Conversion complete! ARFF file saved as: kosarak.arff\n",
      "Time taken to convert: 882.11 seconds\n"
     ]
    }
   ],
   "source": [
    "import time\n",
    "\n",
    "start_time = time.time()\n",
    "process_file(\"kosarak.dat.txt\")\n",
    "end_time = time.time()\n",
    "\n",
    "print(f\"Time taken to convert: {end_time - start_time:.2f} seconds\")"
   ]
  },
  {
   "cell_type": "markdown",
   "id": "9087ae71-6a71-44a4-a016-b758a0914011",
   "metadata": {},
   "source": [
    "Task C)"
   ]
  },
  {
   "cell_type": "code",
   "execution_count": null,
   "id": "f75ff558-ebdf-499b-aefe-66061f54a430",
   "metadata": {},
   "outputs": [],
   "source": [
    "# it took me around a few seconds to load the file into the weka explorer"
   ]
  },
  {
   "cell_type": "markdown",
   "id": "ebfbfc9b-5782-4c26-bfbb-ce849b9d86b7",
   "metadata": {},
   "source": [
    "Task D) & Task E): I have added screenshots from the weka explorer. \n"
   ]
  },
  {
   "cell_type": "markdown",
   "id": "bd289ebb-dbd5-47f7-a720-d053c115c440",
   "metadata": {},
   "source": [
    "From the log, the time required for running the algorithm on weka was significantly lower than the time required for converting the dataset as we can confirm from the above timings. "
   ]
  },
  {
   "cell_type": "markdown",
   "id": "79d02fb3-7bca-4697-ad02-961ff0913310",
   "metadata": {},
   "source": [
    "## Question 3)"
   ]
  },
  {
   "cell_type": "code",
   "execution_count": 4,
   "id": "0e9f2dcb-996f-4ab3-ab8d-4e3ad4b66d1a",
   "metadata": {},
   "outputs": [],
   "source": [
    "# fetching the 20NG dataset\n",
    "from sklearn.datasets import fetch_20newsgroups\n",
    "from sklearn.feature_extraction.text import TfidfVectorizer"
   ]
  },
  {
   "cell_type": "markdown",
   "id": "1daf3806-fafa-44d1-8692-10a15a4c0060",
   "metadata": {},
   "source": [
    "Task 1)"
   ]
  },
  {
   "cell_type": "code",
   "execution_count": 7,
   "id": "88217891-d67d-4a92-8cb3-3607c0897df6",
   "metadata": {},
   "outputs": [],
   "source": [
    "ng_train = fetch_20newsgroups(subset = 'train')\n",
    "ng_test = fetch_20newsgroups(subset = 'test')"
   ]
  },
  {
   "cell_type": "code",
   "execution_count": 9,
   "id": "9e4dd9e1-bbcb-49d4-86aa-cff9e3a4bc30",
   "metadata": {},
   "outputs": [
    {
     "name": "stdout",
     "output_type": "stream",
     "text": [
      "Train data size: 11314, Train labels size: 11314\n",
      "Test data size: 7532, Test labels size: 7532\n"
     ]
    }
   ],
   "source": [
    "print(f\"Train data size: {len(ng_train.data)}, Train labels size: {len(ng_train.target)}\")\n",
    "print(f\"Test data size: {len(ng_test.data)}, Test labels size: {len(ng_test.target)}\")"
   ]
  },
  {
   "cell_type": "code",
   "execution_count": 37,
   "id": "56f5cbee-eb8b-4c9d-b428-6c330788135c",
   "metadata": {},
   "outputs": [],
   "source": [
    "import tensorflow as tf\n",
    "#detching the mnist data\n",
    "(train_images, train_labels),(test_images, test_labels) = tf.keras.datasets.mnist.load_data()"
   ]
  },
  {
   "cell_type": "code",
   "execution_count": 38,
   "id": "f6450923-d51b-42bc-9cd4-308cd07ff649",
   "metadata": {},
   "outputs": [
    {
     "name": "stdout",
     "output_type": "stream",
     "text": [
      "Train image size: (60000, 28, 28), Train labels size: (60000,)\n",
      "Test image size: (10000, 28, 28), Test labels size: (10000,)\n"
     ]
    }
   ],
   "source": [
    "print(f\"Train image size: {train_images.shape}, Train labels size: {train_labels.shape}\")\n",
    "print(f\"Test image size: {test_images.shape}, Test labels size: {test_labels.shape}\")"
   ]
  },
  {
   "cell_type": "markdown",
   "id": "60d089b2-95c0-4210-958a-e333d464d242",
   "metadata": {},
   "source": [
    "Task 2)"
   ]
  },
  {
   "cell_type": "code",
   "execution_count": 39,
   "id": "339cacbf-c8c0-4e9d-87da-4d2bdad5a0b6",
   "metadata": {},
   "outputs": [],
   "source": [
    "#Normalizing the two datasets\n",
    "# we use shift and scle normalization for the mnist dataset\n",
    "min_value = train_images.min()\n",
    "max_value = train_images.max()\n",
    "train_images = (train_images - min_value)/ (max_value - min_value)\n",
    "test_images = (test_images - min_value)/ (max_value - min_value)"
   ]
  },
  {
   "cell_type": "code",
   "execution_count": 13,
   "id": "688f1abe-a7a6-4c1c-a9fa-9895a13a3eac",
   "metadata": {},
   "outputs": [],
   "source": [
    "# now we use the term frequency doc classifier for the 20ng dataset\n",
    "vectorizer = TfidfVectorizer(stop_words = 'english')\n",
    "train_vectors = vectorizer.fit_transform(ng_train.data)\n",
    "test_vectors = vectorizer.transform(ng_test.data)"
   ]
  },
  {
   "cell_type": "markdown",
   "id": "0829615d-d1be-4501-a877-045710e41a91",
   "metadata": {},
   "source": [
    "Task 3)"
   ]
  },
  {
   "cell_type": "code",
   "execution_count": 137,
   "id": "2756b764-f125-4351-bc81-fe75904fad83",
   "metadata": {},
   "outputs": [],
   "source": [
    "euc_dist_mnist_lib = euclidean_distances(train_images.reshape(len(train_images),-1))"
   ]
  },
  {
   "cell_type": "code",
   "execution_count": 138,
   "id": "afcd6ba8-feab-4b54-b006-fd96daaf6270",
   "metadata": {},
   "outputs": [
    {
     "name": "stdout",
     "output_type": "stream",
     "text": [
      "Euclidean distance calculated using common library for mnist dataset for the train images is: \n",
      " [[ 0.          9.36122213 10.87509456 ...  7.87960053  9.72137721\n",
      "   9.92404294]\n",
      " [ 9.36122213  0.         11.36836434 ... 10.41355474  8.2234303\n",
      "   9.52073598]\n",
      " [10.87509456 11.36836434  0.         ... 10.08277087  9.91083896\n",
      "   9.51149045]\n",
      " ...\n",
      " [ 7.87960053 10.41355474 10.08277087 ...  0.          9.34089659\n",
      "   8.98182367]\n",
      " [ 9.72137721  8.2234303   9.91083896 ...  9.34089659  0.\n",
      "   9.07693123]\n",
      " [ 9.92404294  9.52073598  9.51149045 ...  8.98182367  9.07693123\n",
      "   0.        ]]\n"
     ]
    }
   ],
   "source": [
    "print(f\"Euclidean distance calculated using common library for mnist dataset for the train images is: \\n {euc_dist_mnist_lib}\")"
   ]
  },
  {
   "cell_type": "code",
   "execution_count": 133,
   "id": "ac05458e-7c40-41b9-9708-ec7da77a3441",
   "metadata": {},
   "outputs": [
    {
     "name": "stdout",
     "output_type": "stream",
     "text": [
      "The euclidean distance for the ng group train vectors using scipy library is: \n",
      " [[0.         1.40347531 1.39037341 ... 1.41183503 1.40917033 1.39682712]\n",
      " [1.40347531 0.         1.39618941 ... 1.37371916 1.3746041  1.40022341]\n",
      " [1.39037341 1.39618941 0.         ... 1.41216401 1.40412671 1.40511505]\n",
      " ...\n",
      " [1.41183503 1.37371916 1.41216401 ... 0.         1.41247939 1.41366113]\n",
      " [1.40917033 1.3746041  1.40412671 ... 1.41247939 0.         1.41025883]\n",
      " [1.39682712 1.40022341 1.40511505 ... 1.41366113 1.41025883 0.        ]]\n"
     ]
    }
   ],
   "source": [
    "# now for ngroup data, as it is a sparse matrix. we use a library from sklearn\n",
    "from sklearn.metrics.pairwise import euclidean_distances\n",
    "euc_dist_ng_lib = euclidean_distances(train_vectors)\n",
    "print(f\"The euclidean distance for the ng group train vectors using sklearn library is: \\n {euc_dist_ng_lib}\")"
   ]
  },
  {
   "cell_type": "code",
   "execution_count": 176,
   "id": "b8679f95-e59c-470a-bfcb-a582cda678a0",
   "metadata": {},
   "outputs": [],
   "source": [
    "# now we move towards calculating euclidean distance using a custom implementation\n",
    "import numpy as np\n",
    "def compute_euc_dist_batches(x, batch_size):\n",
    "    n_samples = x.shape[0]\n",
    "    dist_matrix = np.zeros((n_samples,n_samples))\n",
    "\n",
    "    for start_idx in range(0, n_samples, batch_size):\n",
    "        end_idx = min(start_idx + batch_size, n_samples)\n",
    "        batch = x[start_idx:end_idx]\n",
    "\n",
    "        dist = np.sqrt(((batch[:, None, :] - x[None, :, :]) ** 2).sum(axis=2))\n",
    "        dist_matrix[start_idx:end_idx,:] = dist\n",
    "    return dist_matrix"
   ]
  },
  {
   "cell_type": "code",
   "execution_count": 20,
   "id": "04435ac4-1395-4352-9389-591981b527ea",
   "metadata": {},
   "outputs": [],
   "source": [
    "train_images_flat = train_images.reshape(len(train_images),-1)"
   ]
  },
  {
   "cell_type": "code",
   "execution_count": 22,
   "id": "1b1cd5c1-2ddc-4880-b68d-cef090e69c76",
   "metadata": {},
   "outputs": [
    {
     "data": {
      "text/plain": [
       "(60000, 784)"
      ]
     },
     "execution_count": 22,
     "metadata": {},
     "output_type": "execute_result"
    }
   ],
   "source": [
    "train_images_flat.shape"
   ]
  },
  {
   "cell_type": "code",
   "execution_count": 24,
   "id": "b9c8722f-0fda-45b5-9cf2-533d52204166",
   "metadata": {},
   "outputs": [],
   "source": [
    "train_images_flat = train_images_flat[:20000,:]"
   ]
  },
  {
   "cell_type": "code",
   "execution_count": 143,
   "id": "64fc3a3b-c490-48c1-8436-73701981df72",
   "metadata": {},
   "outputs": [
    {
     "name": "stdout",
     "output_type": "stream",
     "text": [
      "Custom euclidean distance for mnist dataset is: [[ 0.          9.36122213 10.87509456 ...  9.1229527  10.77111206\n",
      "  11.64063664]\n",
      " [ 9.36122213  0.         11.36836434 ... 11.21603181 10.83128878\n",
      "  12.25583181]\n",
      " [10.87509456 11.36836434  0.         ... 10.36176837 10.14268524\n",
      "  12.01659432]\n",
      " ...\n",
      " [ 9.1229527  11.21603181 10.36176837 ...  0.          8.58526406\n",
      "  10.83615561]\n",
      " [10.77111206 10.83128878 10.14268524 ...  8.58526406  0.\n",
      "  10.0040507 ]\n",
      " [11.64063664 12.25583181 12.01659432 ... 10.83615561 10.0040507\n",
      "   0.        ]]\n"
     ]
    }
   ],
   "source": [
    "batch_size = 150\n",
    "custom_euc_dist_mnist = compute_euc_dist_batches(train_images_flat, batch_size)\n",
    "print(f\"Custom euclidean distance for mnist dataset is: {custom_euc_dist_mnist}\")"
   ]
  },
  {
   "cell_type": "code",
   "execution_count": 27,
   "id": "541134b0-4d90-4b20-9a68-79fd4c3f7538",
   "metadata": {},
   "outputs": [],
   "source": [
    "def compute_euclidean_distance_sparse_subset(X):\n",
    "    n_samples = X.shape[0]\n",
    "    dist_matrix = np.zeros((n_samples, n_samples))\n",
    "    \n",
    "    for i in range(n_samples):\n",
    "        row = X[i]\n",
    "        squared_distances = X.power(2).sum(axis=1) - 2 * X @ row.T + row.power(2).sum()\n",
    "        clipped_distances = np.clip(squared_distances, 0, None) \n",
    "        distances = np.sqrt(clipped_distances)\n",
    "        \n",
    "        dist_matrix[i, :] = np.ravel(distances)  \n",
    "    \n",
    "    return dist_matrix"
   ]
  },
  {
   "cell_type": "code",
   "execution_count": 31,
   "id": "69511c0a-8d6b-4ff0-86c5-5070b228b1eb",
   "metadata": {},
   "outputs": [
    {
     "name": "stdout",
     "output_type": "stream",
     "text": [
      "The euclidean distance with custom calculation for ng group data subset is: [[1.49011612e-08 1.40347531e+00 1.39037341e+00 ... 1.41183503e+00\n",
      "  1.40917033e+00 1.39682712e+00]\n",
      " [1.40347531e+00 1.05367121e-08 1.39618941e+00 ... 1.37371916e+00\n",
      "  1.37460410e+00 1.40022341e+00]\n",
      " [1.39037341e+00 1.39618941e+00 0.00000000e+00 ... 1.41216401e+00\n",
      "  1.40412671e+00 1.40511505e+00]\n",
      " ...\n",
      " [1.41183503e+00 1.37371916e+00 1.41216401e+00 ... 0.00000000e+00\n",
      "  1.41247939e+00 1.41366113e+00]\n",
      " [1.40917033e+00 1.37460410e+00 1.40412671e+00 ... 1.41247939e+00\n",
      "  0.00000000e+00 1.41025883e+00]\n",
      " [1.39682712e+00 1.40022341e+00 1.40511505e+00 ... 1.41366113e+00\n",
      "  1.41025883e+00 0.00000000e+00]]\n"
     ]
    }
   ],
   "source": [
    "\n",
    "dist_matrix_subset = compute_euclidean_distance_sparse_subset(train_vectors)\n",
    "print(f\"The euclidean distance with custom calculation for ng group data subset is: {dist_matrix_subset}\")"
   ]
  },
  {
   "cell_type": "code",
   "execution_count": 26,
   "id": "01b53411-2147-4c31-9d62-810f7b68a571",
   "metadata": {},
   "outputs": [
    {
     "name": "stdout",
     "output_type": "stream",
     "text": [
      "The cosine similarity for the mnist train images is: [[1.         0.55210019 0.21982848 ... 0.46181576 0.29916503 0.33748691]\n",
      " [0.55210019 1.         0.21570934 ... 0.24340303 0.34439987 0.30622869]\n",
      " [0.21982848 0.21570934 1.         ... 0.10429777 0.22822468 0.16821179]\n",
      " ...\n",
      " [0.46181576 0.24340303 0.10429777 ... 1.         0.45374023 0.33768303]\n",
      " [0.29916503 0.34439987 0.22822468 ... 0.45374023 1.         0.47348762]\n",
      " [0.33748691 0.30622869 0.16821179 ... 0.33768303 0.47348762 1.        ]]\n"
     ]
    }
   ],
   "source": [
    "# now we move on to calculate the cosine similarity between the image vectors\n",
    "from sklearn.metrics.pairwise import cosine_similarity\n",
    "cos_sim_mnist = cosine_similarity(train_images_flat)\n",
    "print(f\"The cosine similarity for the mnist train images is: {cos_sim_mnist}\")"
   ]
  },
  {
   "cell_type": "code",
   "execution_count": 34,
   "id": "b6bf7fd8-483e-44fd-8275-811af0b211c9",
   "metadata": {},
   "outputs": [
    {
     "name": "stdout",
     "output_type": "stream",
     "text": [
      "The cosine similarity for the ng group data is: [[1.         0.01512853 0.03343088 ... 0.11932746 0.02502903 0.01245092]\n",
      " [0.01512853 1.         0.02532757 ... 0.00168582 0.01289457 0.00217529]\n",
      " [0.03343088 0.02532757 1.         ... 0.00922215 0.0134951  0.01475594]\n",
      " ...\n",
      " [0.11932746 0.00168582 0.00922215 ... 1.         0.00435098 0.0501984 ]\n",
      " [0.02502903 0.01289457 0.0134951  ... 0.00435098 1.         0.00265199]\n",
      " [0.01245092 0.00217529 0.01475594 ... 0.0501984  0.00265199 1.        ]]\n"
     ]
    }
   ],
   "source": [
    "cos_sim_ng = cosine_similarity(train_vectors_new)\n",
    "print(f\"The cosine similarity for the ng group data is: {cos_sim_ng}\")"
   ]
  },
  {
   "cell_type": "markdown",
   "id": "89146e5a-2873-4dc3-850d-10dc7f611b0a",
   "metadata": {},
   "source": [
    "## Problem 4"
   ]
  },
  {
   "cell_type": "code",
   "execution_count": 48,
   "id": "8b85b3d0-2f36-4302-b77e-622648e3f709",
   "metadata": {},
   "outputs": [],
   "source": [
    "train_images_flat = train_images.reshape(train_images.shape[0], -1)\n",
    "test_images_flat = test_images.reshape(test_images.shape[0], -1)"
   ]
  },
  {
   "cell_type": "code",
   "execution_count": 50,
   "id": "724b2b64-6cb8-450d-96da-cd47420a448e",
   "metadata": {},
   "outputs": [],
   "source": [
    "train_vectors_dense = train_vectors.toarray()\n",
    "test_vectors_dense = test_vectors.toarray()"
   ]
  },
  {
   "cell_type": "code",
   "execution_count": 68,
   "id": "4f9b9601-27d9-410b-84c3-22bb3b5f17d7",
   "metadata": {},
   "outputs": [],
   "source": [
    "from collections import Counter\n",
    "import numpy as np\n",
    "\n",
    "class CustomKNN:\n",
    "    def __init__(self, k=5):\n",
    "        self.k = k  \n",
    "\n",
    "    def fit(self, X_train, y_train):\n",
    "        self.X_train = X_train\n",
    "        self.y_train = y_train\n",
    "\n",
    "    def euclidean_distance(self, x1, x2):\n",
    "        return np.sqrt(np.sum((x1 - x2) ** 2))\n",
    "\n",
    "    def predict(self, X_test):\n",
    "        predictions = []\n",
    "        for test_point in X_test:\n",
    "            distances = []\n",
    "            for i in range(len(self.X_train)):\n",
    "                dist = self.euclidean_distance(test_point, self.X_train[i]) \n",
    "                distances.append((dist, self.y_train[i]))\n",
    "\n",
    "            distances.sort(key=lambda x: x[0]) \n",
    "            neighbors = distances[:self.k]  \n",
    "\n",
    "            neighbor_labels = [label for _, label in neighbors]\n",
    "            most_common = Counter(neighbor_labels).most_common(1) \n",
    "            predictions.append(most_common[0][0])\n",
    "\n",
    "        return predictions"
   ]
  },
  {
   "cell_type": "code",
   "execution_count": 80,
   "id": "4711ea9f-61f5-4c68-bd05-54310615c46e",
   "metadata": {},
   "outputs": [],
   "source": [
    "from sklearn.model_selection import train_test_split\n",
    "# for mnist data\n",
    "x_train, x_val, y_train, y_val = train_test_split(train_images, train_labels, test_size=0.2, random_state=42)"
   ]
  },
  {
   "cell_type": "code",
   "execution_count": 84,
   "id": "6242db48-9562-4842-83b3-8d3d276a0fc2",
   "metadata": {},
   "outputs": [
    {
     "data": {
      "text/plain": [
       "(10000, 28, 28)"
      ]
     },
     "execution_count": 84,
     "metadata": {},
     "output_type": "execute_result"
    }
   ],
   "source": [
    "test_images.shape"
   ]
  },
  {
   "cell_type": "code",
   "execution_count": 86,
   "id": "20ba0650-f4c8-44ed-8818-a67986d789a1",
   "metadata": {},
   "outputs": [],
   "source": [
    "knn = CustomKNN(k=5)\n",
    "knn.fit(x_train, y_train)"
   ]
  },
  {
   "cell_type": "code",
   "execution_count": 88,
   "id": "7313eca9-5c0a-4928-bc75-bf6356917326",
   "metadata": {},
   "outputs": [],
   "source": [
    "y_pred_val = knn.predict(x_val)"
   ]
  },
  {
   "cell_type": "code",
   "execution_count": 94,
   "id": "d7d43a86-49a7-4615-a9fe-297dc45118d0",
   "metadata": {},
   "outputs": [
    {
     "name": "stdout",
     "output_type": "stream",
     "text": [
      "Validation Accuracy: 97.34%\n"
     ]
    }
   ],
   "source": [
    "accuracy = np.mean(np.array(y_pred_val) == y_val)\n",
    "print(f\"Validation Accuracy: {accuracy * 100:.2f}%\")"
   ]
  },
  {
   "cell_type": "code",
   "execution_count": 98,
   "id": "b3893279-b3a0-4e5c-a661-d9313e73f78e",
   "metadata": {},
   "outputs": [],
   "source": [
    "y_pred = knn.predict(test_images)"
   ]
  },
  {
   "cell_type": "code",
   "execution_count": 103,
   "id": "448acc20-b53d-4013-b117-dc89d27fd925",
   "metadata": {},
   "outputs": [
    {
     "name": "stdout",
     "output_type": "stream",
     "text": [
      "Testing Accuracy is: 96.79%\n"
     ]
    }
   ],
   "source": [
    "accuracy_test = np.mean(np.array(y_pred) == test_labels)\n",
    "print(f\"Testing Accuracy is: {accuracy_test * 100:.2f}%\")"
   ]
  },
  {
   "cell_type": "code",
   "execution_count": 170,
   "id": "ec34eba1-9edc-4f76-85da-b0647e022129",
   "metadata": {},
   "outputs": [],
   "source": [
    "#we needed to create another knn class in order to handle the sparse nature of the ng group vectors\n",
    "from collections import Counter\n",
    "import numpy as np\n",
    "\n",
    "class CustomKNN2:\n",
    "    def __init__(self, k=5):\n",
    "        self.k = k  \n",
    "\n",
    "    def fit(self, X_train, y_train):\n",
    "        self.X_train = X_train\n",
    "        self.y_train = y_train\n",
    "        \n",
    "    def euclidean_distance(self, x1, x2):\n",
    "        return np.sqrt(np.sum((x1 - x2) ** 2))\n",
    "        \n",
    "    def predict(self, X_test):\n",
    "        predictions = []\n",
    "        for test_point in X_test:\n",
    "            distances = []\n",
    "            for i in range(self.X_train.shape[0]):  \n",
    "                dist = self.euclidean_distance(test_point.toarray(), self.X_train[i].toarray()) \n",
    "                distances.append((dist, self.y_train[i]))  \n",
    "\n",
    "            distances.sort(key=lambda x: x[0])\n",
    "            neighbors = distances[:self.k]\n",
    "\n",
    "            neighbor_labels = [label for _, label in neighbors]\n",
    "            most_common = Counter(neighbor_labels).most_common(1)\n",
    "            predictions.append(most_common[0][0])\n",
    "\n",
    "        return predictions"
   ]
  },
  {
   "cell_type": "code",
   "execution_count": 111,
   "id": "344d56df-241d-4640-a336-097c2f98fd36",
   "metadata": {},
   "outputs": [
    {
     "name": "stdout",
     "output_type": "stream",
     "text": [
      "Validation accuracy for ng dataset is: 81.22%\n"
     ]
    }
   ],
   "source": [
    "# now lets move towards the ng group dataset\n",
    "#test vectors\n",
    "#ng_train.target\n",
    "x_train, x_val, y_train, y_val = train_test_split(train_vectors, ng_train.target, test_size = 0.2, random_state = 42)\n",
    "\n",
    "knn1 = CustomKNN2(k=5)\n",
    "knn1.fit(x_train, y_train)\n",
    "\n",
    "y_pred_ng = knn1.predict(x_val)\n",
    "\n",
    "accuracy_ng_val = np.mean(np.array(y_pred_ng) == y_val)\n",
    "print(f\"Validation accuracy for ng dataset is: {accuracy_ng_val * 100:.2f}%\")"
   ]
  },
  {
   "cell_type": "code",
   "execution_count": 172,
   "id": "a10d9290-89cf-4086-89ae-6336fc98d737",
   "metadata": {},
   "outputs": [],
   "source": [
    "from sklearn.model_selection import train_test_split\n",
    "x_train, x_val, y_train, y_val = train_test_split(train_vectors, ng_train.target, test_size = 0.2, random_state = 42)\n",
    "knn1 = CustomKNN2(k=5)\n",
    "knn1.fit(x_train,y_train)"
   ]
  },
  {
   "cell_type": "code",
   "execution_count": 174,
   "id": "fea47e50-e089-4a95-a4c7-7a3e5453411f",
   "metadata": {},
   "outputs": [
    {
     "name": "stdout",
     "output_type": "stream",
     "text": [
      "Testing Accuracy for ng dataset is: 68.60%\n"
     ]
    }
   ],
   "source": [
    "import numpy as np\n",
    "y_pred_test_ng = knn1.predict(test_vectors)\n",
    "accuracy_test_ng = np.mean(np.array(y_pred_test_ng) == ng_test.target)\n",
    "print(f\"Testing Accuracy for ng dataset is: {accuracy_test_ng * 100:.2f}%\")"
   ]
  },
  {
   "cell_type": "code",
   "execution_count": null,
   "id": "f648f660-2f24-4cc0-b71f-87d6ea42f27a",
   "metadata": {},
   "outputs": [],
   "source": []
  }
 ],
 "metadata": {
  "kernelspec": {
   "display_name": "Python [conda env:base] *",
   "language": "python",
   "name": "conda-base-py"
  },
  "language_info": {
   "codemirror_mode": {
    "name": "ipython",
    "version": 3
   },
   "file_extension": ".py",
   "mimetype": "text/x-python",
   "name": "python",
   "nbconvert_exporter": "python",
   "pygments_lexer": "ipython3",
   "version": "3.12.7"
  }
 },
 "nbformat": 4,
 "nbformat_minor": 5
}
